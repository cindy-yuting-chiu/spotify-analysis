{
 "cells": [
  {
   "cell_type": "code",
   "execution_count": 24,
   "id": "e12da424",
   "metadata": {},
   "outputs": [],
   "source": [
    "import requests\n",
    "import pandas as pd\n",
    "from IPython.display import Image\n",
    "from IPython.core.display import HTML "
   ]
  },
  {
   "cell_type": "code",
   "execution_count": 1,
   "id": "273b7068",
   "metadata": {},
   "outputs": [],
   "source": [
    "def get_authentication():\n",
    "    \"\"\"\n",
    "    Get authentication from Spotify API using the credentials we have \n",
    "    \"\"\"\n",
    "    AUTH_URL = 'https://accounts.spotify.com/api/token'\n",
    "    cid =\"0753888cfb694cf98b9332cd343859a3\" \n",
    "    secret = \"0f47a99eb4bc40eea4f3c9d6b3f1df82\"\n",
    "    # POST\n",
    "    auth_response = requests.post(AUTH_URL, {\n",
    "        'grant_type': 'client_credentials',\n",
    "        'client_id': cid,\n",
    "        'client_secret': secret,\n",
    "    })\n",
    "\n",
    "    # convert the response to JSON\n",
    "    auth_response_data = auth_response.json()\n",
    "    # save the access token\n",
    "    access_token = auth_response_data['access_token']\n",
    "\n",
    "    headers = {\n",
    "        'Authorization': 'Bearer {token}'.format(token=access_token)}\n",
    "    return headers \n"
   ]
  },
  {
   "cell_type": "code",
   "execution_count": 63,
   "id": "6caa038b",
   "metadata": {},
   "outputs": [],
   "source": [
    "def get_artist_id(artist: str):\n",
    "    \"\"\"\n",
    "    Use the searching function in Spotify API to search for the most relavant artist name\n",
    "    Input: String of artist name\n",
    "    Output: String of artist id \n",
    "    \"\"\"\n",
    "    URI = 'https://api.spotify.com/v1/search?query='+ artistName +'&offset=0&limit=1&type=artist'\n",
    "    response = requests.get(url = URI, headers=get_authentication())\n",
    "    response = response.json()\n",
    "    artist_id = response['artists']['items'][0]['id']\n",
    "    return artist_id"
   ]
  },
  {
   "cell_type": "code",
   "execution_count": 91,
   "id": "23c13524",
   "metadata": {},
   "outputs": [],
   "source": [
    "def get_artist_album(artist_id: str, limit: int):\n",
    "    \"\"\"\n",
    "    Get the album from the artist, you can specify the number of albums returned\n",
    "    Input: String of artist id, Number of albums\n",
    "    Output: Dataframe with relavant album information\n",
    "    \"\"\"\n",
    "    album_url = 'https://api.spotify.com/v1/artists/' + artist_id + '/albums?limit=' + str(limit) + '&include_groups=album'\n",
    "    response = requests.get(album_url, headers=get_authentication())\n",
    "    response = response.json()\n",
    "    df = pd.DataFrame(response['items']) # we make the data frame using the items \n",
    "    df['image_url'] = df['images'].apply(lambda x: x[0]['url']) # we need only one image url\n",
    "    df['available_market_cnt'] = df['available_markets'].apply(lambda x: len(x))\n",
    "    df['release_date'] = pd.to_datetime(t['release_date'] ) # change the string to datetime\n",
    "    df.sort_values(by='release_date', ascending=False) # descending release time\n",
    "    df = df.loc[:, ['name','id', 'release_date', 'total_tracks','image_url','available_market_cnt' ]] \n",
    "    return df "
   ]
  },
  {
   "cell_type": "code",
   "execution_count": 5,
   "id": "8953640e",
   "metadata": {},
   "outputs": [],
   "source": [
    "artistName ='Illenium'\n",
    "URI = 'https://api.spotify.com/v1/search?query='+ artistName +'&offset=0&limit=1&type=artist'\n",
    "response = requests.get(url = URI, headers=get_authentication())\n",
    "response = response.json()\n",
    "artist_id = response['artists']['items'][0]['id']"
   ]
  },
  {
   "cell_type": "code",
   "execution_count": 69,
   "id": "5a3eb28a",
   "metadata": {},
   "outputs": [],
   "source": [
    "def path_to_image_html(path):\n",
    "    return '<img src=\"'+ path + '\" width=\"60\" >'\n",
    "\n",
    "\n",
    "def output_dataframe(df):\n",
    "    pd.set_option('display.max_colwidth', None)\n",
    "    image_cols = ['image_url']  #<- define which columns will be used to convert to html\n",
    "# Create the dictionariy to be passed as formatters\n",
    "    format_dict = {}\n",
    "    for image_col in image_cols:\n",
    "        format_dict[image_col] = path_to_image_html\n",
    "    display(HTML(df.to_html(escape=False ,formatters=format_dict)))\n"
   ]
  },
  {
   "cell_type": "code",
   "execution_count": 92,
   "id": "77e0231f",
   "metadata": {},
   "outputs": [
    {
     "data": {
      "text/html": [
       "<table border=\"1\" class=\"dataframe\">\n",
       "  <thead>\n",
       "    <tr style=\"text-align: right;\">\n",
       "      <th></th>\n",
       "      <th>name</th>\n",
       "      <th>id</th>\n",
       "      <th>release_date</th>\n",
       "      <th>total_tracks</th>\n",
       "      <th>image_url</th>\n",
       "      <th>available_market_cnt</th>\n",
       "    </tr>\n",
       "  </thead>\n",
       "  <tbody>\n",
       "    <tr>\n",
       "      <th>0</th>\n",
       "      <td>Fallen Embers (Deluxe Version)</td>\n",
       "      <td>0KgcBsDY5uFt4EaG3roI3x</td>\n",
       "      <td>2021-10-22</td>\n",
       "      <td>19</td>\n",
       "      <td><img src=\"https://i.scdn.co/image/ab67616d0000b273dcf331e276b993d87ed9850b\" width=\"60\" ></td>\n",
       "      <td>184</td>\n",
       "    </tr>\n",
       "    <tr>\n",
       "      <th>1</th>\n",
       "      <td>Fallen Embers</td>\n",
       "      <td>4YomxhmDglPvD93W3T6l1V</td>\n",
       "      <td>2021-07-16</td>\n",
       "      <td>14</td>\n",
       "      <td><img src=\"https://i.scdn.co/image/ab67616d0000b273700ed221054220bb30eb2d96\" width=\"60\" ></td>\n",
       "      <td>184</td>\n",
       "    </tr>\n",
       "    <tr>\n",
       "      <th>2</th>\n",
       "      <td>ASCEND (Remixes)</td>\n",
       "      <td>2Ds60s4LcHcb77dNQm22kA</td>\n",
       "      <td>2020-05-15</td>\n",
       "      <td>24</td>\n",
       "      <td><img src=\"https://i.scdn.co/image/ab67616d0000b273e144033ced9d27071086b429\" width=\"60\" ></td>\n",
       "      <td>184</td>\n",
       "    </tr>\n",
       "    <tr>\n",
       "      <th>3</th>\n",
       "      <td>ASCEND</td>\n",
       "      <td>60xcVwuQJAOyu11xf9mObS</td>\n",
       "      <td>2019-08-16</td>\n",
       "      <td>17</td>\n",
       "      <td><img src=\"https://i.scdn.co/image/ab67616d0000b273529c6fa82d23f65076c1579b\" width=\"60\" ></td>\n",
       "      <td>182</td>\n",
       "    </tr>\n",
       "    <tr>\n",
       "      <th>4</th>\n",
       "      <td>Awake (Remixes)</td>\n",
       "      <td>4f9voI47wfAZIp0UgwGy6o</td>\n",
       "      <td>2018-06-18</td>\n",
       "      <td>15</td>\n",
       "      <td><img src=\"https://i.scdn.co/image/ab67616d0000b273ef7e62898833c63fdeff40dc\" width=\"60\" ></td>\n",
       "      <td>184</td>\n",
       "    </tr>\n",
       "    <tr>\n",
       "      <th>5</th>\n",
       "      <td>Awake</td>\n",
       "      <td>5rvIgXvAPGWspXY4rDLkeU</td>\n",
       "      <td>2017-09-21</td>\n",
       "      <td>13</td>\n",
       "      <td><img src=\"https://i.scdn.co/image/ab67616d0000b273ad3b5398f9086d7f6e19331b\" width=\"60\" ></td>\n",
       "      <td>184</td>\n",
       "    </tr>\n",
       "    <tr>\n",
       "      <th>6</th>\n",
       "      <td>Ashes (Remixes)</td>\n",
       "      <td>2R7PeUrbSseLkirdasHPqg</td>\n",
       "      <td>2016-12-16</td>\n",
       "      <td>15</td>\n",
       "      <td><img src=\"https://i.scdn.co/image/ab67616d0000b2738a6819e918c628007bc487ef\" width=\"60\" ></td>\n",
       "      <td>184</td>\n",
       "    </tr>\n",
       "    <tr>\n",
       "      <th>7</th>\n",
       "      <td>Ashes</td>\n",
       "      <td>1hG9qANsJg5lYm36MYun97</td>\n",
       "      <td>2016-02-15</td>\n",
       "      <td>12</td>\n",
       "      <td><img src=\"https://i.scdn.co/image/ab67616d0000b273b340389616c13200bab2eefa\" width=\"60\" ></td>\n",
       "      <td>184</td>\n",
       "    </tr>\n",
       "  </tbody>\n",
       "</table>"
      ],
      "text/plain": [
       "<IPython.core.display.HTML object>"
      ]
     },
     "metadata": {},
     "output_type": "display_data"
    }
   ],
   "source": [
    "t = get_artist_album(artist_id, 50)\n",
    "output_dataframe(t)"
   ]
  }
 ],
 "metadata": {
  "kernelspec": {
   "display_name": "Python 3",
   "language": "python",
   "name": "python3"
  },
  "language_info": {
   "codemirror_mode": {
    "name": "ipython",
    "version": 3
   },
   "file_extension": ".py",
   "mimetype": "text/x-python",
   "name": "python",
   "nbconvert_exporter": "python",
   "pygments_lexer": "ipython3",
   "version": "3.8.5"
  }
 },
 "nbformat": 4,
 "nbformat_minor": 5
}
